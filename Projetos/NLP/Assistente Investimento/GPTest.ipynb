{
 "cells": [
  {
   "cell_type": "code",
   "execution_count": 26,
   "id": "bc56af09-ab90-48ee-90a3-6c59892fc068",
   "metadata": {},
   "outputs": [],
   "source": [
    "import openai\n",
    "from openai import OpenAI\n",
    "import os \n",
    "import groq\n",
    "from groq import Groq\n"
   ]
  },
  {
   "cell_type": "code",
   "execution_count": null,
   "id": "1b09edd6",
   "metadata": {},
   "outputs": [],
   "source": [
    "chave = os.getenv(\"GROQ_API_KEY\")"
   ]
  },
  {
   "cell_type": "code",
   "execution_count": 33,
   "id": "3620efbf-dc24-4f1d-bc9e-27f747328a69",
   "metadata": {
    "tags": []
   },
   "outputs": [],
   "source": [
    "client = Groq(chave)\n",
    "model = \"llama-3.1-70b-versatile\""
   ]
  },
  {
   "cell_type": "code",
   "execution_count": 36,
   "id": "91f647d5-7d87-4772-813f-e5863cada2a2",
   "metadata": {
    "tags": []
   },
   "outputs": [
    {
     "name": "stdout",
     "output_type": "stream",
     "text": [
      "ChatCompletion(id='chatcmpl-8b48ab51-a6d1-46c7-b271-5aa12ac7f2cd', choices=[Choice(finish_reason='stop', index=0, logprobs=None, message=ChatCompletionMessage(content='What do you call a fake noodle? \\n\\nAn impasta.', role='assistant', function_call=None, tool_calls=None))], created=1732814704, model='llama-3.1-70b-versatile', object='chat.completion', system_fingerprint='fp_b6828be2c9', usage=CompletionUsage(completion_tokens=15, prompt_tokens=39, total_tokens=54, completion_time=0.06, prompt_time=0.020401957, queue_time=0.11996763199999999, total_time=0.080401957), x_groq={'id': 'req_01jdsww3qaf7avnnj73bysebva'})\n"
     ]
    }
   ],
   "source": [
    "response = client.chat.completions.create(\n",
    "    model=model,\n",
    "    messages=[{\"role\":\"user\",\"content\":\"tell me a joke\"}]\n",
    ")\n",
    "print(response)"
   ]
  },
  {
   "cell_type": "code",
   "execution_count": 40,
   "id": "7b663fa4-0d7e-48ac-9696-a20ca868dff7",
   "metadata": {
    "tags": []
   },
   "outputs": [
    {
     "name": "stdout",
     "output_type": "stream",
     "text": [
      "What do you call a fake noodle? \n",
      "\n",
      "An impasta.\n"
     ]
    }
   ],
   "source": [
    "massage = (response.choices[0].message.content)\n",
    "print(massage) #limpar a resposta"
   ]
  },
  {
   "cell_type": "code",
   "execution_count": 45,
   "id": "864bbf24-b3e6-4c73-8483-0bdf1f789246",
   "metadata": {
    "tags": []
   },
   "outputs": [
    {
     "name": "stdout",
     "output_type": "stream",
     "text": [
      "As an investment assistant, I must emphasize that the best low-risk investment for you will depend on your personal financial goals, risk tolerance, and time horizon. That being said, here are some popular low-risk investment options that are often considered for 2023:\n",
      "\n",
      "1. **High-Yield Savings Accounts**: These accounts offer a low-risk option for earning interest on your savings. They are FDIC-insured (in the US) and typically offer higher interest rates than traditional savings accounts.\n",
      "2. **Government Bonds**: Government bonds, such as US Treasury bonds (T-bonds) or municipal bonds, are backed by the full faith and credit of the government. They are considered low-risk and offer a fixed return.\n",
      "3. **Certificates of Deposit (CDs)**: CDs are time deposits offered by banks with a fixed interest rate and maturity date. They are FDIC-insured (in the US) and tend to be low-risk, but you'll need to keep your money locked in the CD for the specified term to avoid early withdrawal penalties.\n",
      "4. **Short-Term Bond Funds**: These funds invest in low-risk, short-term bonds with maturities ranging from a few months to a year or two. They offer a relatively stable return and can provide liquidity.\n",
      "5. **Dividend-paying Stocks**: Established companies with a history of paying consistent dividends can offer a relatively low-risk way to generate income. Look for stocks with a strong dividend yield and a stable financial profile.\n",
      "6. **Real Estate Investment Trusts (REITs)**: REITs allow you to invest in real estate without directly owning physical properties. They can provide a relatively stable income stream and are often considered a lower-risk option.\n",
      "\n",
      "Some specific investment products that are considered low-risk and popular in 2023 include:\n",
      "\n",
      "* Vanguard Total Bond Market Index Fund (VBTLX)\n",
      "* iShares Core US Aggregate Bond ETF (AGG)\n",
      "* SPDR S&P 500 Dividend ETF (SDY)\n",
      "* Schwab Short-Term Bond Market ETF (SCHO)\n",
      "* Treasury bills (T-bills) and notes (T-notes) from the US Treasury Department\n",
      "\n",
      "Please keep in mind that even low-risk investments carry some level of risk, and it's essential to assess your personal financial goals, risk tolerance, and time horizon before investing. It's also a good idea to consult with a financial advisor or conduct your own research before making any investment decisions.\n",
      "\n",
      "Would you like me to provide more information on any of these options or help you determine a suitable investment strategy?\n"
     ]
    }
   ],
   "source": [
    "response = client.chat.completions.create(\n",
    "    model=model,\n",
    "    messages=[\n",
    "        {\"role\":\"system\",\"content\":\"You are a investment assistant\"}, #dessa forma passa um contexto\n",
    "        {\"role\":\"user\",\"content\":\"which is the best low-risk investiment you recomend this year?\"}\n",
    "    ]\n",
    ")\n",
    "message = (response.choices[0].message.content)\n",
    "print(message) "
   ]
  },
  {
   "cell_type": "code",
   "execution_count": 46,
   "id": "2faf5a65-116b-49a6-b785-f7c9f9e15b68",
   "metadata": {
    "collapsed": true,
    "jupyter": {
     "outputs_hidden": true
    },
    "tags": []
   },
   "outputs": [
    {
     "name": "stdout",
     "output_type": "stream",
     "text": [
      "**Certificates of Deposit (CDs): How They Work**\n",
      "\n",
      "A Certificate of Deposit (CD) is a time deposit offered by banks and credit unions that provides a fixed interest rate for a specific period of time. Here's a step-by-step explanation of how CDs work:\n",
      "\n",
      "1. **You deposit your money**: You deposit a sum of money, known as the principal, into a CD at a bank or credit union.\n",
      "2. **Fixed interest rate**: You agree to keep your money locked in the CD for a specific period, known as the term, and in return, the bank or credit union agrees to pay a fixed interest rate.\n",
      "3. **Term lengths vary**: CD terms can range from a few months to several years, typically between 3 months to 5 years or more.\n",
      "4. **Interest accrues**: The CD earns interest over the term, which is calculated based on the principal amount and the agreed-upon interest rate.\n",
      "5. **Interest compounding**: The interest may be compounded daily, monthly, or annually, depending on the terms of the CD.\n",
      "6. **Maturity**: At the end of the term, the CD reaches maturity, and you can choose to:\n",
      "\t* **Withdraw the funds**: Take out the principal plus the accrued interest.\n",
      "\t* **Roll over the CD**: Reinvest the funds in a new CD, often with a new interest rate and term.\n",
      "\t* **Let it auto-renew**: Some CDs automatically roll over into a new term with the same interest rate and term, unless you opt out.\n",
      "7. **Early withdrawal penalties**: If you need to access your money before the CD matures, you'll typically face an early withdrawal penalty. This can be a few months' worth of interest or even a small percentage of the principal.\n",
      "8. **FDIC insurance**: CDs are generally insured by the Federal Deposit Insurance Corporation (FDIC) or the National Credit Union Administration (NCUA), which protects your deposit up to $250,000 per account owner, per insured bank or credit union.\n",
      "\n",
      "**Types of CDs**\n",
      "\n",
      "1. **Traditional CD**: A basic CD with a fixed interest rate and term.\n",
      "2. **High-Yield CD**: Offers a higher interest rate, often with a longer term or online banks.\n",
      "3. **No-Penalty CD**: Allows for withdrawal of principal without penalties, but may offer lower interest rates.\n",
      "4. **Step-Up CD**: Offers the option to take advantage of higher interest rates if they rise during the term.\n",
      "5. **Bump-Up CD**: Allows you to increase the interest rate if market rates rise during the term.\n",
      "6. **Jumbo CD**: Requires a higher deposit amount, often $100,000 or more, in exchange for a higher interest rate.\n",
      "7. **Zero-Coupon CD**: Offers a fixed interest rate and term, but interest is compounded daily and paid at maturity.\n",
      "\n",
      "Before investing in a CD, consider your financial goals, risk tolerance, and liquidity needs. CDs are generally low-risk, but you'll need to keep your money locked in the CD for the specified term to avoid early withdrawal penalties.\n",
      "\n",
      "**Would you like to know more about specific CD products or discuss your investment goals?**\n"
     ]
    }
   ],
   "source": [
    "#para manter o contexto: \n",
    "response = client.chat.completions.create(\n",
    "    model=model,\n",
    "    messages=[\n",
    "        {\"role\":\"system\",\"content\":message}, #dessa forma passa um contexto\n",
    "        {\"role\":\"user\",\"content\":\"how Certificates of Deposit (CDs) works?\"}\n",
    "    ]\n",
    ")\n",
    "massage = (response.choices[0].message.content)\n",
    "print(massage) "
   ]
  },
  {
   "cell_type": "code",
   "execution_count": 51,
   "id": "d954f8bc-d279-4058-b718-eb557e56bd5e",
   "metadata": {
    "tags": []
   },
   "outputs": [
    {
     "name": "stdout",
     "output_type": "stream",
     "text": [
      "Por favor, insira o contexto para o assistente:  Treinador de corrida\n",
      "Por favor, insira sua pergunta:  qual seria o modelo ideal de treino para auxiliar um lutador?\n"
     ]
    },
    {
     "name": "stdout",
     "output_type": "stream",
     "text": [
      "\n",
      "Resposta do assistente:\n",
      "O modelo ideal de treino para auxiliar um lutador depende de vários fatores, como o estilo de luta, o nível de experiência e os objetivos específicos do atleta. No entanto, aqui estão alguns princípios gerais e um exemplo de modelo de treino que podem ser adaptados para auxiliar um lutador:\n",
      "\n",
      "**Princípios gerais:**\n",
      "\n",
      "1. **Treinamento específico**: O treino deve ser specificamente desenhado para o estilo de luta e as necessidades do lutador.\n",
      "2. **Periodização**: O treino deve ser dividido em períodos de treinamento intensivo e períodos de recuperação e relaxamento.\n",
      "3. **Aumento gradual da intensidade**: A intensidade do treino deve aumentar gradualmente ao longo do tempo para evitar lesões e permitir que o corpo se adapte.\n",
      "4. **Equilíbrio entre força, condicionamento e técnica**: O treino deve incluir uma combinação de exercícios de força, condicionamento e técnica para desenvolver as habilidades necessárias para a luta.\n",
      "\n",
      "**Exemplo de modelo de treino:**\n",
      "\n",
      "**Fase 1: Preparação (4-6 semanas)**\n",
      "\n",
      "* **Treinamento de força**:\n",
      " + 2 vezes por semana: treinamento de força com pesos (foco em exercícios como agachamento, empurrar e puxar)\n",
      " + 1 vez por semana: treinamento de força com exercícios corporais (foco em flexões, abdominais e ponte)\n",
      "* **Treinamento de condicionamento**:\n",
      " + 2 vezes por semana: corrida leve ou natação (20-30 minutos)\n",
      " + 1 vez por semana: treinamento de HIIT (High-Intensity Interval Training) (20-30 minutos)\n",
      "* **Treinamento de técnica**:\n",
      " + 2 vezes por semana: treinamento de técnica com um parceiro ou sozinho (foco em movimentos básicos de luta)\n",
      "\n",
      "**Fase 2: Desenvolvimento (4-6 semanas)**\n",
      "\n",
      "* **Treinamento de força**:\n",
      " + 2 vezes por semana: treinamento de força com pesos (foco em exercícios mais avançados, como supino e remada)\n",
      " + 1 vez por semana: treinamento de força com exercícios corporais (foco em abdominais e flexões)\n",
      "* **Treinamento de condicionamento**:\n",
      " + 2 vezes por semana: corrida moderada ou natação (30-40 minutos)\n",
      " + 1 vez por semana: treinamento de HIIT (20-30 minutos)\n",
      "* **Treinamento de técnica**:\n",
      " + 2 vezes por semana: treinamento de técnica com um parceiro ou sozinho (foco em movimentos mais avançados de luta)\n",
      "\n",
      "**Fase 3: Simulação (4-6 semanas)**\n",
      "\n",
      "* **Treinamento de força**:\n",
      " + 1 vez por semana: treinamento de força com pesos (foco em exercícios básicos)\n",
      " + 1 vez por semana: treinamento de força com exercícios corporais (foco em abdominais e flexões)\n",
      "* **Treinamento de condicionamento**:\n",
      " + 1 vez por semana: corrida leve ou natação (20-30 minutos)\n",
      " + 1 vez por semana: treinamento de HIIT (20-30 minutos)\n",
      "* **Treinamento de técnica**:\n",
      " + 2 vezes por semana: treinamento de técnica com um parceiro ou sozinho (foco em simulação de lutas)\n",
      "\n",
      "**Recuperação e relaxamento**:\n",
      "\n",
      "* 1-2 dias por semana: recuperação e relaxamento (massagens, alongamentos, etc.)\n",
      "\n",
      "Lembre-se de que esse é apenas um exemplo e que o modelo de treino deve ser adaptado às necessidades específicas do lutador e ao seu nível de experiência. Além disso, é importante ter um profissional de condicionamento físico ou um treinador experiente para supervisionar e ajustar o treino ao longo do tempo.\n"
     ]
    }
   ],
   "source": [
    "context = input(\"Por favor, insira o contexto para o assistente: \")\n",
    "question = input(\"Por favor, insira sua pergunta: \")\n",
    "\n",
    "response = client.chat.completions.create(\n",
    "    model=model,\n",
    "    messages=[\n",
    "        {\"role\": \"system\", \"content\": context},  \n",
    "        {\"role\": \"user\", \"content\": question}  \n",
    "    ]\n",
    ")\n",
    "\n",
    "print(\"\\nResposta do assistente:\")\n",
    "print(response.choices[0].message.content)"
   ]
  }
 ],
 "metadata": {
  "kernelspec": {
   "display_name": "Python 3 (ipykernel)",
   "language": "python",
   "name": "python3"
  },
  "language_info": {
   "codemirror_mode": {
    "name": "ipython",
    "version": 3
   },
   "file_extension": ".py",
   "mimetype": "text/x-python",
   "name": "python",
   "nbconvert_exporter": "python",
   "pygments_lexer": "ipython3",
   "version": "3.11.4"
  }
 },
 "nbformat": 4,
 "nbformat_minor": 5
}
