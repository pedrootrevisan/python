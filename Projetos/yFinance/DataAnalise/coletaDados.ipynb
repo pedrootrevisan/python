{
 "cells": [
  {
   "cell_type": "code",
   "execution_count": 1,
   "id": "ac4f1171-8ff8-4286-a0c1-d356c7df52bc",
   "metadata": {
    "tags": []
   },
   "outputs": [],
   "source": [
    "import os\n",
    "import yfinance as yf\n",
    "import pandas as pd\n",
    "from datetime import datetime"
   ]
  },
  {
   "cell_type": "code",
   "execution_count": 2,
   "id": "48e1fedb-67ec-4cb1-8622-497c59b2cb30",
   "metadata": {
    "tags": []
   },
   "outputs": [
    {
     "name": "stdout",
     "output_type": "stream",
     "text": [
      "YF.download() has changed argument auto_adjust default to True\n"
     ]
    },
    {
     "name": "stderr",
     "output_type": "stream",
     "text": [
      "[*********************100%***********************]  1 of 1 completed\n"
     ]
    },
    {
     "data": {
      "text/html": [
       "<div>\n",
       "<style scoped>\n",
       "    .dataframe tbody tr th:only-of-type {\n",
       "        vertical-align: middle;\n",
       "    }\n",
       "\n",
       "    .dataframe tbody tr th {\n",
       "        vertical-align: top;\n",
       "    }\n",
       "\n",
       "    .dataframe thead tr th {\n",
       "        text-align: left;\n",
       "    }\n",
       "\n",
       "    .dataframe thead tr:last-of-type th {\n",
       "        text-align: right;\n",
       "    }\n",
       "</style>\n",
       "<table border=\"1\" class=\"dataframe\">\n",
       "  <thead>\n",
       "    <tr>\n",
       "      <th>Price</th>\n",
       "      <th>Close</th>\n",
       "      <th>High</th>\n",
       "      <th>Low</th>\n",
       "      <th>Open</th>\n",
       "      <th>Volume</th>\n",
       "    </tr>\n",
       "    <tr>\n",
       "      <th>Ticker</th>\n",
       "      <th>^BVSP</th>\n",
       "      <th>^BVSP</th>\n",
       "      <th>^BVSP</th>\n",
       "      <th>^BVSP</th>\n",
       "      <th>^BVSP</th>\n",
       "    </tr>\n",
       "    <tr>\n",
       "      <th>Date</th>\n",
       "      <th></th>\n",
       "      <th></th>\n",
       "      <th></th>\n",
       "      <th></th>\n",
       "      <th></th>\n",
       "    </tr>\n",
       "  </thead>\n",
       "  <tbody>\n",
       "    <tr>\n",
       "      <th>2024-01-02</th>\n",
       "      <td>132697.0</td>\n",
       "      <td>134195.0</td>\n",
       "      <td>132095.0</td>\n",
       "      <td>134186.0</td>\n",
       "      <td>8437800</td>\n",
       "    </tr>\n",
       "    <tr>\n",
       "      <th>2024-01-03</th>\n",
       "      <td>132834.0</td>\n",
       "      <td>133576.0</td>\n",
       "      <td>132250.0</td>\n",
       "      <td>132697.0</td>\n",
       "      <td>8702400</td>\n",
       "    </tr>\n",
       "    <tr>\n",
       "      <th>2024-01-04</th>\n",
       "      <td>131226.0</td>\n",
       "      <td>132885.0</td>\n",
       "      <td>131024.0</td>\n",
       "      <td>132831.0</td>\n",
       "      <td>8972300</td>\n",
       "    </tr>\n",
       "    <tr>\n",
       "      <th>2024-01-05</th>\n",
       "      <td>132023.0</td>\n",
       "      <td>132635.0</td>\n",
       "      <td>130579.0</td>\n",
       "      <td>131218.0</td>\n",
       "      <td>9199700</td>\n",
       "    </tr>\n",
       "    <tr>\n",
       "      <th>2024-01-08</th>\n",
       "      <td>132427.0</td>\n",
       "      <td>132498.0</td>\n",
       "      <td>131015.0</td>\n",
       "      <td>132023.0</td>\n",
       "      <td>8497500</td>\n",
       "    </tr>\n",
       "    <tr>\n",
       "      <th>...</th>\n",
       "      <td>...</td>\n",
       "      <td>...</td>\n",
       "      <td>...</td>\n",
       "      <td>...</td>\n",
       "      <td>...</td>\n",
       "    </tr>\n",
       "    <tr>\n",
       "      <th>2024-12-20</th>\n",
       "      <td>122102.0</td>\n",
       "      <td>122209.0</td>\n",
       "      <td>120700.0</td>\n",
       "      <td>121183.0</td>\n",
       "      <td>18128200</td>\n",
       "    </tr>\n",
       "    <tr>\n",
       "      <th>2024-12-23</th>\n",
       "      <td>120767.0</td>\n",
       "      <td>122105.0</td>\n",
       "      <td>120617.0</td>\n",
       "      <td>122105.0</td>\n",
       "      <td>9953300</td>\n",
       "    </tr>\n",
       "    <tr>\n",
       "      <th>2024-12-26</th>\n",
       "      <td>121078.0</td>\n",
       "      <td>121612.0</td>\n",
       "      <td>120428.0</td>\n",
       "      <td>120767.0</td>\n",
       "      <td>8338500</td>\n",
       "    </tr>\n",
       "    <tr>\n",
       "      <th>2024-12-27</th>\n",
       "      <td>120269.0</td>\n",
       "      <td>121609.0</td>\n",
       "      <td>120252.0</td>\n",
       "      <td>121078.0</td>\n",
       "      <td>8937000</td>\n",
       "    </tr>\n",
       "    <tr>\n",
       "      <th>2024-12-30</th>\n",
       "      <td>120283.0</td>\n",
       "      <td>121050.0</td>\n",
       "      <td>120158.0</td>\n",
       "      <td>120267.0</td>\n",
       "      <td>8895300</td>\n",
       "    </tr>\n",
       "  </tbody>\n",
       "</table>\n",
       "<p>251 rows × 5 columns</p>\n",
       "</div>"
      ],
      "text/plain": [
       "Price          Close      High       Low      Open    Volume\n",
       "Ticker         ^BVSP     ^BVSP     ^BVSP     ^BVSP     ^BVSP\n",
       "Date                                                        \n",
       "2024-01-02  132697.0  134195.0  132095.0  134186.0   8437800\n",
       "2024-01-03  132834.0  133576.0  132250.0  132697.0   8702400\n",
       "2024-01-04  131226.0  132885.0  131024.0  132831.0   8972300\n",
       "2024-01-05  132023.0  132635.0  130579.0  131218.0   9199700\n",
       "2024-01-08  132427.0  132498.0  131015.0  132023.0   8497500\n",
       "...              ...       ...       ...       ...       ...\n",
       "2024-12-20  122102.0  122209.0  120700.0  121183.0  18128200\n",
       "2024-12-23  120767.0  122105.0  120617.0  122105.0   9953300\n",
       "2024-12-26  121078.0  121612.0  120428.0  120767.0   8338500\n",
       "2024-12-27  120269.0  121609.0  120252.0  121078.0   8937000\n",
       "2024-12-30  120283.0  121050.0  120158.0  120267.0   8895300\n",
       "\n",
       "[251 rows x 5 columns]"
      ]
     },
     "execution_count": 2,
     "metadata": {},
     "output_type": "execute_result"
    }
   ],
   "source": [
    "data_inicio = \"2024-01-01\"\n",
    "data_fim    = \"2024-12-31\"\n",
    "    \n",
    "\n",
    "df1 = yf.download(\"^BVSP\", start=data_inicio, end=data_fim)\n",
    "df1"
   ]
  },
  {
   "cell_type": "code",
   "execution_count": 3,
   "id": "4eb50e6d-7a25-4230-bb7f-38faf52bf62c",
   "metadata": {
    "tags": []
   },
   "outputs": [
    {
     "name": "stdin",
     "output_type": "stream",
     "text": [
      "Digite os tickers adicionais separados por vírgula (ou pressione Enter para continuar):  \n"
     ]
    },
    {
     "name": "stderr",
     "output_type": "stream",
     "text": [
      "[*********************100%***********************]  1 of 1 completed\n"
     ]
    },
    {
     "name": "stdout",
     "output_type": "stream",
     "text": [
      "Arquivo salvo em: dados\\brutos\\PETR4.SA_20250330.csv\n"
     ]
    },
    {
     "name": "stderr",
     "output_type": "stream",
     "text": [
      "[*********************100%***********************]  1 of 1 completed\n"
     ]
    },
    {
     "name": "stdout",
     "output_type": "stream",
     "text": [
      "Arquivo salvo em: dados\\brutos\\VALE3.SA_20250330.csv\n"
     ]
    },
    {
     "name": "stderr",
     "output_type": "stream",
     "text": [
      "[*********************100%***********************]  1 of 1 completed\n"
     ]
    },
    {
     "name": "stdout",
     "output_type": "stream",
     "text": [
      "Arquivo salvo em: dados\\brutos\\ITUB4.SA_20250330.csv\n"
     ]
    },
    {
     "name": "stderr",
     "output_type": "stream",
     "text": [
      "[*********************100%***********************]  1 of 1 completed\n"
     ]
    },
    {
     "name": "stdout",
     "output_type": "stream",
     "text": [
      "Arquivo salvo em: dados\\brutos\\WEGE3.SA_20250330.csv\n"
     ]
    },
    {
     "name": "stderr",
     "output_type": "stream",
     "text": [
      "[*********************100%***********************]  1 of 1 completed\n"
     ]
    },
    {
     "name": "stdout",
     "output_type": "stream",
     "text": [
      "Arquivo salvo em: dados\\brutos\\SUZB3.SA_20250330.csv\n"
     ]
    },
    {
     "name": "stderr",
     "output_type": "stream",
     "text": [
      "[*********************100%***********************]  1 of 1 completed\n"
     ]
    },
    {
     "name": "stdout",
     "output_type": "stream",
     "text": [
      "Arquivo salvo em: dados\\brutos\\JBSS3.SA_20250330.csv\n"
     ]
    },
    {
     "name": "stderr",
     "output_type": "stream",
     "text": [
      "[*********************100%***********************]  1 of 1 completed\n"
     ]
    },
    {
     "name": "stdout",
     "output_type": "stream",
     "text": [
      "Arquivo salvo em: dados\\brutos\\BRFS3.SA_20250330.csv\n"
     ]
    },
    {
     "name": "stderr",
     "output_type": "stream",
     "text": [
      "[*********************100%***********************]  1 of 1 completed\n"
     ]
    },
    {
     "name": "stdout",
     "output_type": "stream",
     "text": [
      "Arquivo salvo em: dados\\brutos\\ABEV3.SA_20250330.csv\n"
     ]
    },
    {
     "name": "stderr",
     "output_type": "stream",
     "text": [
      "[*********************100%***********************]  1 of 1 completed\n"
     ]
    },
    {
     "name": "stdout",
     "output_type": "stream",
     "text": [
      "Arquivo salvo em: dados\\brutos\\MRFG3.SA_20250330.csv\n"
     ]
    },
    {
     "name": "stderr",
     "output_type": "stream",
     "text": [
      "[*********************100%***********************]  1 of 1 completed\n"
     ]
    },
    {
     "name": "stdout",
     "output_type": "stream",
     "text": [
      "Arquivo salvo em: dados\\brutos\\SLCE3.SA_20250330.csv\n"
     ]
    },
    {
     "name": "stderr",
     "output_type": "stream",
     "text": [
      "[*********************100%***********************]  1 of 1 completed\n"
     ]
    },
    {
     "name": "stdout",
     "output_type": "stream",
     "text": [
      "Arquivo salvo em: dados\\brutos\\CYRE3.SA_20250330.csv\n"
     ]
    },
    {
     "name": "stderr",
     "output_type": "stream",
     "text": [
      "[*********************100%***********************]  1 of 1 completed\n"
     ]
    },
    {
     "name": "stdout",
     "output_type": "stream",
     "text": [
      "Arquivo salvo em: dados\\brutos\\EGIE3.SA_20250330.csv\n"
     ]
    },
    {
     "name": "stderr",
     "output_type": "stream",
     "text": [
      "[*********************100%***********************]  1 of 1 completed\n",
      "[*********************100%***********************]  1 of 1 completed"
     ]
    },
    {
     "name": "stdout",
     "output_type": "stream",
     "text": [
      "Arquivo salvo em: dados\\brutos\\BEEF3.SA_20250330.csv\n"
     ]
    },
    {
     "name": "stderr",
     "output_type": "stream",
     "text": [
      "\n",
      "[*********************100%***********************]  1 of 1 completed"
     ]
    },
    {
     "name": "stdout",
     "output_type": "stream",
     "text": [
      "Arquivo salvo em: dados\\brutos\\COGN3.SA_20250330.csv\n",
      "Arquivo salvo em: dados\\brutos\\^BVSP_20250330.csv\n"
     ]
    },
    {
     "name": "stderr",
     "output_type": "stream",
     "text": [
      "\n"
     ]
    }
   ],
   "source": [
    "\n",
    "\n",
    "def coletar_dados_yfinance(ticker: str, data_inicio: str, data_fim: str):\n",
    "    \"\"\"\n",
    "    Coleta dados de mercado (preços históricos) via yfinance.\n",
    "    \n",
    "    :param ticker: Código do ativo (ex.: 'PETR4.SA' para B3)\n",
    "    :param data_inicio: Data inicial no formato 'YYYY-MM-DD'\n",
    "    :param data_fim: Data final no formato 'YYYY-MM-DD'\n",
    "    :return: DataFrame com dados de preços (ou vazio em caso de erro).\n",
    "    \"\"\"\n",
    "    try:\n",
    "        # yfinance aceita strings no formato 'YYYY-MM-DD' para start/end\n",
    "        df = yf.download(ticker, start=data_inicio, end=data_fim)\n",
    "        if df.empty:\n",
    "            raise ValueError(f\"Não foram obtidos dados para o ticker {ticker}\")\n",
    "        return df\n",
    "    except Exception as e:\n",
    "        print(f\"Erro ao coletar dados para o ticker {ticker}: {e}\")\n",
    "        return pd.DataFrame()\n",
    "\n",
    "def main():\n",
    "    \n",
    "    data_inicio = \"2024-01-01\"\n",
    "    data_fim    = \"2024-12-31\"\n",
    "    \n",
    "    tickers_brasil = [\n",
    "        \"PETR4.SA\", \"VALE3.SA\", \"ITUB4.SA\", \"WEGE3.SA\",\n",
    "        \"SUZB3.SA\", \"JBSS3.SA\", \"BRFS3.SA\", \"ABEV3.SA\",\n",
    "        \"MRFG3.SA\", \"SLCE3.SA\", \"CYRE3.SA\", \"EGIE3.SA\",\n",
    "        \"BEEF3.SA\", \"COGN3.SA\", \"^BVSP\"\n",
    "    ]\n",
    "    \n",
    "    # Entrada opcional do usuário (tickers adicionais)\n",
    "    tickers_input = input(\n",
    "        \"Digite os tickers adicionais separados por vírgula (ou pressione Enter para continuar): \"\n",
    "    ).split(',')\n",
    "    tickers_brasil.extend([ticker.strip() for ticker in tickers_input if ticker.strip()])\n",
    "\n",
    "    for ticker in tickers_brasil:\n",
    "        try:\n",
    "            df = coletar_dados_yfinance(ticker, data_inicio, data_fim)\n",
    "            if df.empty:\n",
    "                print(f\"Dados vazios para o ticker {ticker}, pulando...\")\n",
    "                continue\n",
    "            \n",
    "            # Usar data de hoje apenas para compor o nome do CSV\n",
    "            hoje_str = datetime.now().strftime('%Y%m%d')\n",
    "            \n",
    "            # Garante que a pasta 'dados/brutos' exista\n",
    "            os.makedirs(os.path.join(\"dados\", \"brutos\"), exist_ok=True)\n",
    "            \n",
    "            # Caminho do CSV compatível com Windows, Linux, etc.\n",
    "            caminho_csv = os.path.join(\"dados\", \"brutos\", f\"{ticker}_{hoje_str}.csv\")\n",
    "            \n",
    "            # Salva o CSV\n",
    "            df.to_csv(caminho_csv, index=True)\n",
    "            print(f\"Arquivo salvo em: {caminho_csv}\")\n",
    "        \n",
    "        except Exception as e:\n",
    "            print(f\"Erro ao processar o ticker {ticker}: {e}\")\n",
    "\n",
    "if __name__ == \"__main__\":\n",
    "    main()\n"
   ]
  },
  {
   "cell_type": "code",
   "execution_count": null,
   "id": "3701fe9e-8166-4c7d-8a09-ebd1c42e6fd8",
   "metadata": {},
   "outputs": [],
   "source": []
  }
 ],
 "metadata": {
  "kernelspec": {
   "display_name": "Python 3 (ipykernel)",
   "language": "python",
   "name": "python3"
  },
  "language_info": {
   "codemirror_mode": {
    "name": "ipython",
    "version": 3
   },
   "file_extension": ".py",
   "mimetype": "text/x-python",
   "name": "python",
   "nbconvert_exporter": "python",
   "pygments_lexer": "ipython3",
   "version": "3.11.4"
  }
 },
 "nbformat": 4,
 "nbformat_minor": 5
}
