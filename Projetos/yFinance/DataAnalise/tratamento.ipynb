{
 "cells": [
  {
   "cell_type": "code",
   "execution_count": 1,
   "id": "9d20958d-c38a-4f46-9d09-1aaeddf67663",
   "metadata": {
    "tags": []
   },
   "outputs": [],
   "source": [
    "import pandas as pd\n",
    "import numpy as np\n",
    "import os"
   ]
  },
  {
   "cell_type": "code",
   "execution_count": 4,
   "id": "cead413e-5bd2-4f2a-b69e-5bafbb7c10d4",
   "metadata": {
    "collapsed": true,
    "jupyter": {
     "outputs_hidden": true
    },
    "tags": []
   },
   "outputs": [
    {
     "name": "stdout",
     "output_type": "stream",
     "text": [
      "Processando arquivo: dados/brutos\\ABEV3.SA_20250330.csv\n",
      "Arquivo limpo salvo em: dados\\limpos\\ABEV3.SA_20250330_limpo.csv\n",
      "Processando arquivo: dados/brutos\\BEEF3.SA_20250330.csv\n",
      "Arquivo limpo salvo em: dados\\limpos\\BEEF3.SA_20250330_limpo.csv\n",
      "Processando arquivo: dados/brutos\\BRFS3.SA_20250330.csv\n",
      "Arquivo limpo salvo em: dados\\limpos\\BRFS3.SA_20250330_limpo.csv\n",
      "Processando arquivo: dados/brutos\\COGN3.SA_20250330.csv\n",
      "Arquivo limpo salvo em: dados\\limpos\\COGN3.SA_20250330_limpo.csv\n",
      "Processando arquivo: dados/brutos\\CYRE3.SA_20250330.csv\n",
      "Arquivo limpo salvo em: dados\\limpos\\CYRE3.SA_20250330_limpo.csv\n",
      "Processando arquivo: dados/brutos\\EGIE3.SA_20250330.csv\n",
      "Arquivo limpo salvo em: dados\\limpos\\EGIE3.SA_20250330_limpo.csv\n",
      "Processando arquivo: dados/brutos\\ITUB4.SA_20250330.csv\n",
      "Arquivo limpo salvo em: dados\\limpos\\ITUB4.SA_20250330_limpo.csv\n",
      "Processando arquivo: dados/brutos\\JBSS3.SA_20250330.csv\n",
      "Arquivo limpo salvo em: dados\\limpos\\JBSS3.SA_20250330_limpo.csv\n",
      "Processando arquivo: dados/brutos\\MRFG3.SA_20250330.csv\n",
      "Arquivo limpo salvo em: dados\\limpos\\MRFG3.SA_20250330_limpo.csv\n",
      "Processando arquivo: dados/brutos\\PETR4.SA_20250330.csv\n",
      "Arquivo limpo salvo em: dados\\limpos\\PETR4.SA_20250330_limpo.csv\n",
      "Processando arquivo: dados/brutos\\SLCE3.SA_20250330.csv\n",
      "Arquivo limpo salvo em: dados\\limpos\\SLCE3.SA_20250330_limpo.csv\n",
      "Processando arquivo: dados/brutos\\SUZB3.SA_20250330.csv\n",
      "Arquivo limpo salvo em: dados\\limpos\\SUZB3.SA_20250330_limpo.csv\n",
      "Processando arquivo: dados/brutos\\VALE3.SA_20250330.csv\n",
      "Arquivo limpo salvo em: dados\\limpos\\VALE3.SA_20250330_limpo.csv\n",
      "Processando arquivo: dados/brutos\\WEGE3.SA_20250330.csv\n",
      "Arquivo limpo salvo em: dados\\limpos\\WEGE3.SA_20250330_limpo.csv\n",
      "Processando arquivo: dados/brutos\\^BVSP_20250330.csv\n",
      "Arquivo limpo salvo em: dados\\limpos\\^BVSP_20250330_limpo.csv\n"
     ]
    }
   ],
   "source": [
    "import os\n",
    "import pandas as pd\n",
    "\n",
    "'''\n",
    "Arquivos baixados do yFinance vem no formato:\n",
    "\"Price,Close,High,Low,Open,Volume\"\n",
    "\"Ticker,ABEV3.SA,...\", \n",
    "\"Date,,,,,\"\n",
    "e os demais valores em apenas uma coluna, separados por vírgula.\n",
    "O objetivo é padronizar esses arquivos para facilitar a manipulçao dos dados.\n",
    "retirando o header e mantendo a sequencia de valores em colunas separadas.\n",
    "'''\n",
    "\n",
    "\n",
    "\n",
    "def limpar_e_padronizar(df, delimiter=','):\n",
    "    \"\"\"\n",
    "    Função que recebe um CSV possivelmente com apenas uma coluna (todas as colunas\n",
    "    aglutinadas em uma única string) e garaante o DataFrame utilizavell.\n",
    "    Se isso ocorrer, faz split com o delimitador especificado.\n",
    "    Define a primeira linha como cabeçalho, renomeia colunas, e faz limpeza básica.\n",
    "    \"\"\"\n",
    "\n",
    "    # 2) Renomear colunas (incluindo \"Price\" -> \"Date\")\n",
    "    colunas_map = {\n",
    "        \"Price\": \"Date\",\n",
    "        \"Open\": \"PrecoAbertura\",\n",
    "        \"High\": \"PrecoMaximo\",\n",
    "        \"Low\": \"PrecoMinimo\",\n",
    "        \"Close\": \"PrecoFechamento\",\n",
    "        \"Volume\": \"VolumeNegociado\"\n",
    "    }\n",
    "    df = df.rename(columns=colunas_map)\n",
    "\n",
    "   \n",
    "    # Excluir linhas com valores nulos na coluna de fechamento, se desejar\n",
    "    if \"PrecoFechamento\" in df.columns:\n",
    "        df = df.dropna(subset=[\"PrecoFechamento\"])\n",
    "   \n",
    "    \n",
    "    return df\n",
    "\n",
    "def main():\n",
    "    caminho_brutos = \"dados/brutos\"\n",
    "    arquivos_csv = [\n",
    "        os.path.join(caminho_brutos, f)\n",
    "        for f in os.listdir(caminho_brutos)\n",
    "        if f.endswith(\".csv\")\n",
    "    ]\n",
    "\n",
    "    os.makedirs(\"dados/limpos\", exist_ok=True)\n",
    "\n",
    "    for arquivo_csv in arquivos_csv:\n",
    "        print(f\"Processando arquivo: {arquivo_csv}\")\n",
    "        \n",
    "        # Leitura inicial sem parse_dates e sem index_col\n",
    "        df_bruto = pd.read_csv(arquivo_csv,skiprows=[1,2] ,header=0, dtype=str, delimiter=',')\n",
    "        \n",
    "        # Limpar e padronizar\n",
    "        df_limpo = limpar_e_padronizar(df_bruto)\n",
    "        \n",
    "        # Gerar nome de saída\n",
    "        nome_arquivo = os.path.basename(arquivo_csv).replace(\".csv\", \"_limpo.csv\")\n",
    "        caminho_limpo = os.path.join(\"dados\", \"limpos\", nome_arquivo)\n",
    "\n",
    "        # Salvar\n",
    "        df_limpo.to_csv(caminho_limpo, index=False, sep=',', encoding='utf-8')\n",
    "        print(f\"Arquivo limpo salvo em: {caminho_limpo}\")\n",
    "\n",
    "if __name__ == \"__main__\":\n",
    "    main()\n"
   ]
  },
  {
   "cell_type": "code",
   "execution_count": null,
   "id": "312ce7f8-8993-4f5f-bdc4-f23d197a95d3",
   "metadata": {},
   "outputs": [],
   "source": []
  },
  {
   "cell_type": "code",
   "execution_count": null,
   "id": "c1eba47c-7928-4577-a4e3-762af71041d5",
   "metadata": {},
   "outputs": [],
   "source": []
  }
 ],
 "metadata": {
  "kernelspec": {
   "display_name": "Python 3 (ipykernel)",
   "language": "python",
   "name": "python3"
  },
  "language_info": {
   "codemirror_mode": {
    "name": "ipython",
    "version": 3
   },
   "file_extension": ".py",
   "mimetype": "text/x-python",
   "name": "python",
   "nbconvert_exporter": "python",
   "pygments_lexer": "ipython3",
   "version": "3.11.4"
  }
 },
 "nbformat": 4,
 "nbformat_minor": 5
}
