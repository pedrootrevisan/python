{
 "cells": [
  {
   "cell_type": "code",
   "execution_count": 4,
   "id": "b510e321-a52e-436a-bc84-ec3b9dcc5875",
   "metadata": {
    "tags": []
   },
   "outputs": [
    {
     "name": "stdout",
     "output_type": "stream",
     "text": [
      "41\n"
     ]
    }
   ],
   "source": [
    "def amplitude(a):\n",
    "        x = max(a)\n",
    "        y = min(a)\n",
    "        return x- y\n",
    "\n",
    "c = [22,11,16,34,52]\n",
    "b = amplitude(c)\n",
    "print(b)"
   ]
  },
  {
   "cell_type": "code",
   "execution_count": 10,
   "id": "2a935adf-a027-4613-a4af-04b4238d0a4c",
   "metadata": {
    "tags": []
   },
   "outputs": [
    {
     "name": "stdin",
     "output_type": "stream",
     "text": [
      "dogite a palavra:  pedro\n"
     ]
    },
    {
     "name": "stdout",
     "output_type": "stream",
     "text": [
      "p\n",
      "e\n",
      "d\n",
      "r\n",
      "o\n"
     ]
    }
   ],
   "source": [
    "\n",
    "def imprimir(palavra):\n",
    "    for i in range(len(palavra)):\n",
    "        print(palavra[i])\n",
    "\n",
    "palavra = input(\"dogite a palavra: \")\n",
    "imprimir(palavra)"
   ]
  },
  {
   "cell_type": "code",
   "execution_count": null,
   "id": "348cc009-c4ff-42d1-b2b6-3181d5997928",
   "metadata": {},
   "outputs": [],
   "source": [
    "peso1 = float(input(\"Digite seu peso  em kg: \"))\n",
    "if peso <= 10.00\n",
    "    print(\"valor: R$50.00)\n",
    "elif peso > 10 and peso <= 20\n",
    "          print(\"valor: R$80\")\n",
    "else print"
   ]
  }
 ],
 "metadata": {
  "kernelspec": {
   "display_name": "Python 3 (ipykernel)",
   "language": "python",
   "name": "python3"
  },
  "language_info": {
   "codemirror_mode": {
    "name": "ipython",
    "version": 3
   },
   "file_extension": ".py",
   "mimetype": "text/x-python",
   "name": "python",
   "nbconvert_exporter": "python",
   "pygments_lexer": "ipython3",
   "version": "3.11.4"
  }
 },
 "nbformat": 4,
 "nbformat_minor": 5
}
