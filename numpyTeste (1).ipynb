{
 "cells": [
  {
   "cell_type": "code",
   "execution_count": 2,
   "id": "554481c0-b933-40a8-aa1a-7387f7f0f3c3",
   "metadata": {
    "tags": []
   },
   "outputs": [],
   "source": [
    "import numpy as np"
   ]
  },
  {
   "cell_type": "code",
   "execution_count": 3,
   "id": "f2f1945e-131c-4998-87b0-83372ce2c6d4",
   "metadata": {
    "tags": []
   },
   "outputs": [
    {
     "name": "stdout",
     "output_type": "stream",
     "text": [
      "[1 2 3 4 5]\n",
      "<class 'numpy.ndarray'>\n"
     ]
    }
   ],
   "source": [
    "#cria uma matriz unidimensional\n",
    "mt = np.array([1,2,3,4,5])\n",
    "print(mt)\n",
    "print(type(mt))"
   ]
  },
  {
   "cell_type": "code",
   "execution_count": 13,
   "id": "a4cab781-b8ad-48ee-8fc3-5a5fe2ab05c5",
   "metadata": {
    "tags": []
   },
   "outputs": [
    {
     "name": "stdout",
     "output_type": "stream",
     "text": [
      "[[1 2 3]\n",
      " [4 5 6]\n",
      " [7 8 9]]\n",
      "(3, 3)\n"
     ]
    }
   ],
   "source": [
    "#mais de uma dimensao\n",
    "mt = np.array([[1,2,3],[4,5,6],[7,8,9]])\n",
    "print(mt)\n",
    "\n",
    "#separando linhas ou colunas\n",
    "l = mt[2,:]\n",
    "print(l)\n",
    "\n",
    "#mostra tamanho dimensoes\n",
    "print(mt.shape)\n"
   ]
  },
  {
   "cell_type": "code",
   "execution_count": 11,
   "id": "5cf85ae1-2812-4380-9bd8-d6008cbea0fc",
   "metadata": {
    "tags": []
   },
   "outputs": [
    {
     "name": "stdout",
     "output_type": "stream",
     "text": [
      "[[0. 0. 0.]\n",
      " [0. 0. 0.]\n",
      " [0. 0. 0.]\n",
      " [0. 0. 0.]]\n",
      "-------------\n",
      "[0.99003025 0.84096438 0.42253869 0.15304184 0.83432122]\n",
      "--------------\n",
      "[[4 5 7 9]\n",
      " [0 1 8 9]\n",
      " [2 3 8 4]]\n"
     ]
    }
   ],
   "source": [
    "zeros = np.zeros([4,3])\n",
    "print(zeros) \n",
    "print(\"-------------\")\n",
    "\n",
    "ale = np.random.random((5))\n",
    "print(ale)\n",
    "print(\"--------------\")\n",
    "\n",
    "gnr = np.random.default_rng(1)\n",
    "ale3= gnr.integers(10, size = (3,4))\n",
    "print(ale3)\n"
   ]
  },
  {
   "cell_type": "code",
   "execution_count": 12,
   "id": "c0311b56-9547-4be6-8fa9-c16bd1e85a8e",
   "metadata": {
    "tags": []
   },
   "outputs": [
    {
     "name": "stdout",
     "output_type": "stream",
     "text": [
      "[11 12 13 14 15]\n"
     ]
    }
   ],
   "source": [
    "#unique remove repetições\n",
    "\n",
    "j = np.array([11,12,11,13,12,14,11,15,14])\n",
    "j = np.unique(j)\n",
    "print(j)"
   ]
  },
  {
   "cell_type": "code",
   "execution_count": null,
   "id": "16ba0ce8-4103-43dd-a438-5d78a0cf4997",
   "metadata": {},
   "outputs": [],
   "source": []
  }
 ],
 "metadata": {
  "kernelspec": {
   "display_name": "Python 3 (ipykernel)",
   "language": "python",
   "name": "python3"
  },
  "language_info": {
   "codemirror_mode": {
    "name": "ipython",
    "version": 3
   },
   "file_extension": ".py",
   "mimetype": "text/x-python",
   "name": "python",
   "nbconvert_exporter": "python",
   "pygments_lexer": "ipython3",
   "version": "3.11.4"
  }
 },
 "nbformat": 4,
 "nbformat_minor": 5
}
